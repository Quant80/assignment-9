{
 "cells": [
  {
   "cell_type": "code",
   "execution_count": 9,
   "id": "82ea5299",
   "metadata": {},
   "outputs": [],
   "source": [
    "import sqlite3\n",
    "import pandas as pd\n",
    "import numpy as np"
   ]
  },
  {
   "cell_type": "code",
   "execution_count": 10,
   "id": "321d4a9b",
   "metadata": {},
   "outputs": [],
   "source": [
    "connection = sqlite3.connect('data.sqlite')"
   ]
  },
  {
   "cell_type": "code",
   "execution_count": 18,
   "id": "0b79e889",
   "metadata": {},
   "outputs": [
    {
     "data": {
      "text/html": [
       "<div>\n",
       "<style scoped>\n",
       "    .dataframe tbody tr th:only-of-type {\n",
       "        vertical-align: middle;\n",
       "    }\n",
       "\n",
       "    .dataframe tbody tr th {\n",
       "        vertical-align: top;\n",
       "    }\n",
       "\n",
       "    .dataframe thead th {\n",
       "        text-align: right;\n",
       "    }\n",
       "</style>\n",
       "<table border=\"1\" class=\"dataframe\">\n",
       "  <thead>\n",
       "    <tr style=\"text-align: right;\">\n",
       "      <th></th>\n",
       "      <th>U</th>\n",
       "      <th>V</th>\n",
       "      <th>X</th>\n",
       "      <th>Y</th>\n",
       "      <th>Z</th>\n",
       "    </tr>\n",
       "  </thead>\n",
       "  <tbody>\n",
       "    <tr>\n",
       "      <th>0</th>\n",
       "      <td>47</td>\n",
       "      <td>56</td>\n",
       "      <td>73</td>\n",
       "      <td>76</td>\n",
       "      <td>68</td>\n",
       "    </tr>\n",
       "    <tr>\n",
       "      <th>1</th>\n",
       "      <td>40</td>\n",
       "      <td>49</td>\n",
       "      <td>40</td>\n",
       "      <td>91</td>\n",
       "      <td>40</td>\n",
       "    </tr>\n",
       "    <tr>\n",
       "      <th>2</th>\n",
       "      <td>95</td>\n",
       "      <td>61</td>\n",
       "      <td>49</td>\n",
       "      <td>87</td>\n",
       "      <td>96</td>\n",
       "    </tr>\n",
       "    <tr>\n",
       "      <th>3</th>\n",
       "      <td>2</td>\n",
       "      <td>79</td>\n",
       "      <td>71</td>\n",
       "      <td>82</td>\n",
       "      <td>15</td>\n",
       "    </tr>\n",
       "    <tr>\n",
       "      <th>4</th>\n",
       "      <td>60</td>\n",
       "      <td>43</td>\n",
       "      <td>83</td>\n",
       "      <td>31</td>\n",
       "      <td>82</td>\n",
       "    </tr>\n",
       "    <tr>\n",
       "      <th>...</th>\n",
       "      <td>...</td>\n",
       "      <td>...</td>\n",
       "      <td>...</td>\n",
       "      <td>...</td>\n",
       "      <td>...</td>\n",
       "    </tr>\n",
       "    <tr>\n",
       "      <th>99995</th>\n",
       "      <td>31</td>\n",
       "      <td>71</td>\n",
       "      <td>70</td>\n",
       "      <td>54</td>\n",
       "      <td>93</td>\n",
       "    </tr>\n",
       "    <tr>\n",
       "      <th>99996</th>\n",
       "      <td>53</td>\n",
       "      <td>55</td>\n",
       "      <td>35</td>\n",
       "      <td>76</td>\n",
       "      <td>83</td>\n",
       "    </tr>\n",
       "    <tr>\n",
       "      <th>99997</th>\n",
       "      <td>86</td>\n",
       "      <td>52</td>\n",
       "      <td>27</td>\n",
       "      <td>97</td>\n",
       "      <td>10</td>\n",
       "    </tr>\n",
       "    <tr>\n",
       "      <th>99998</th>\n",
       "      <td>48</td>\n",
       "      <td>2</td>\n",
       "      <td>51</td>\n",
       "      <td>82</td>\n",
       "      <td>90</td>\n",
       "    </tr>\n",
       "    <tr>\n",
       "      <th>99999</th>\n",
       "      <td>79</td>\n",
       "      <td>52</td>\n",
       "      <td>77</td>\n",
       "      <td>85</td>\n",
       "      <td>99</td>\n",
       "    </tr>\n",
       "  </tbody>\n",
       "</table>\n",
       "<p>100000 rows × 5 columns</p>\n",
       "</div>"
      ],
      "text/plain": [
       "        U   V   X   Y   Z\n",
       "0      47  56  73  76  68\n",
       "1      40  49  40  91  40\n",
       "2      95  61  49  87  96\n",
       "3       2  79  71  82  15\n",
       "4      60  43  83  31  82\n",
       "...    ..  ..  ..  ..  ..\n",
       "99995  31  71  70  54  93\n",
       "99996  53  55  35  76  83\n",
       "99997  86  52  27  97  10\n",
       "99998  48   2  51  82  90\n",
       "99999  79  52  77  85  99\n",
       "\n",
       "[100000 rows x 5 columns]"
      ]
     },
     "execution_count": 18,
     "metadata": {},
     "output_type": "execute_result"
    }
   ],
   "source": [
    "data_base = pd.DataFrame(np.random.randint(0,100,size=(100000, 5)), columns=list('UVXYZ'))\n",
    "data_base"
   ]
  },
  {
   "cell_type": "code",
   "execution_count": null,
   "id": "3f5657d7",
   "metadata": {},
   "outputs": [],
   "source": [
    "connection = sqlite3.connect('/Users/trymore/data.sqlite')\n",
    "df.to_sql('abcde', connection, if_exists='replace', index=False)\n",
    "pd.read_sql('select * from abcde', connection)"
   ]
  },
  {
   "cell_type": "code",
   "execution_count": 22,
   "id": "236f9216",
   "metadata": {},
   "outputs": [
    {
     "name": "stdout",
     "output_type": "stream",
     "text": [
      "0        76\n",
      "1        91\n",
      "2        96\n",
      "3        82\n",
      "4        83\n",
      "         ..\n",
      "99995    93\n",
      "99996    83\n",
      "99997    97\n",
      "99998    90\n",
      "99999    99\n",
      "Length: 100000, dtype: int32\n"
     ]
    }
   ],
   "source": [
    "max_1 = data_base.max(axis=1)\n",
    "print (max_1)"
   ]
  },
  {
   "cell_type": "code",
   "execution_count": 25,
   "id": "18af0555",
   "metadata": {},
   "outputs": [
    {
     "data": {
      "text/plain": [
       "5059"
      ]
     },
     "execution_count": 25,
     "metadata": {},
     "output_type": "execute_result"
    }
   ],
   "source": [
    "(data_base.values == 50).sum()"
   ]
  },
  {
   "cell_type": "code",
   "execution_count": 26,
   "id": "5cd5d56d",
   "metadata": {},
   "outputs": [
    {
     "name": "stdout",
     "output_type": "stream",
     "text": [
      "0        320\n",
      "1        260\n",
      "2        388\n",
      "3        249\n",
      "4        299\n",
      "        ... \n",
      "99995    319\n",
      "99996    302\n",
      "99997    272\n",
      "99998    273\n",
      "99999    392\n",
      "Length: 100000, dtype: int64\n"
     ]
    }
   ],
   "source": [
    "sum_1= data_base.sum(axis=1)\n",
    "print (sum_1)"
   ]
  },
  {
   "cell_type": "code",
   "execution_count": null,
   "id": "f7087290",
   "metadata": {},
   "outputs": [],
   "source": []
  }
 ],
 "metadata": {
  "kernelspec": {
   "display_name": "Python 3",
   "language": "python",
   "name": "python3"
  },
  "language_info": {
   "codemirror_mode": {
    "name": "ipython",
    "version": 3
   },
   "file_extension": ".py",
   "mimetype": "text/x-python",
   "name": "python",
   "nbconvert_exporter": "python",
   "pygments_lexer": "ipython3",
   "version": "3.8.8"
  }
 },
 "nbformat": 4,
 "nbformat_minor": 5
}
